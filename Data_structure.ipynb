{
  "nbformat": 4,
  "nbformat_minor": 0,
  "metadata": {
    "colab": {
      "provenance": []
    },
    "kernelspec": {
      "name": "python3",
      "display_name": "Python 3"
    },
    "language_info": {
      "name": "python"
    }
  },
  "cells": [
    {
      "cell_type": "markdown",
      "source": [
        "Data Structure"
      ],
      "metadata": {
        "id": "e-_g5qx697_b"
      }
    },
    {
      "cell_type": "markdown",
      "source": [
        "1. What are data structures, and why are they important\n",
        "   - Data structures are ways of organizing and storing data in a computer so it can be accessed and modified efficiently. They are important because they:\n",
        "\n",
        "   - Optimize performance (speed and memory)\n",
        "\n",
        "   - Help solve complex problems effectively\n",
        "\n",
        "   - Provide structure for code organization (e.g., trees, graphs, lists)\n",
        "\n",
        "2. Explain the difference between mutable and immutable data types with examples\n",
        "   - Mutable: Can be changed after creation.\n",
        "   - Examples: list, dict, set\n",
        "\n",
        "   - Immutable: Cannot be changed after creation.\n",
        "   - Examples: int, float, str, tuple\n",
        "\n",
        "    - Mutable\n",
        "      a = [1, 2, 3]\n",
        "      a[0] = 100  # Allowed\n",
        "\n",
        "    - Immutable\n",
        "      b = (1, 2, 3)\n",
        "      b[0] = 100  # Error: 'tuple' object does not support item assignment\n",
        "\n",
        "3. What are the main differences between lists and tuples in Python3\n",
        "   - Feature\t    List\t                  Tuple\n",
        "   - Mutability\t Mutable\t                Immutable\n",
        "   - Syntax\t    []\t                  ()\n",
        "   - Performance\tSlower (more flexible)\tFaster (less flexible)\n",
        "   - Use Case\t    Frequent updates\t      Fixed data  \n",
        "\n",
        "4. Describe how dictionaries store data.\n",
        "\n",
        "   - Dictionaries store data as key-value pairs using a hash table internally. Keys must be unique and hashable; values can be any data type.\n",
        "\n",
        "   - my_dict = {'name': 'Alice', 'age': 30}\n",
        "\n",
        "5. Why might you use a set instead of a list in Python?\n",
        "\n",
        "   - To automatically remove duplicates\n",
        "\n",
        "   - To test membership efficiently (O(1) vs O(n) for list)\n",
        "\n",
        "   - To perform set operations (union, intersection)\n",
        "\n",
        "   - list_data = [1, 2, 2, 3]\n",
        "   - set_data = set(list_data)  # {1, 2, 3}  \n",
        "\n",
        "6. What is a string in Python, and how is it different from a list?\n",
        "\n",
        "   - A string is a sequence of characters (immutable).\n",
        "   - A list is a sequence of elements (mutable).\n",
        "\n",
        "   - s = \"hello\"\n",
        "   - l = ['h', 'e', 'l', 'l', 'o']\n",
        "\n",
        "\n",
        "  - Key difference: You can modify lists, not strings.\n",
        "\n",
        "7. How do tuples ensure data integrity in Python?\n",
        "\n",
        "   - Tuples are immutable, meaning once created, their data cannot be changed, making them ideal for:\n",
        "\n",
        "   - Fixed collections of items\n",
        "\n",
        "   - Safe data transfer\n",
        "\n",
        "   - Use as dictionary keys\n",
        "\n",
        "8. What is a hash table, and how does it relate to dictionaries in Python?\n",
        "   - A hash table is a data structure that maps keys to values using a hash function. Python dictionaries use hash tables to provide fast access to values via keys.\n",
        "\n",
        "9. Can lists contain different data types in Python?\n",
        "\n",
        "   - Yes. Lists can contain elements of any data type, including nested lists, objects, and functions.\n",
        "\n",
        "   - mixed_list = [42, \"hello\", [1, 2], {'a': 1}]\n",
        "\n",
        "10. Explain why strings are immutable in Python.\n",
        "\n",
        "    - For security and integrity\n",
        "\n",
        "    - Allows hashing (used in sets and dict keys)\n",
        "\n",
        "    - Optimizes memory and performance through interning\n",
        "\n",
        "11. What advantages do dictionaries offer over lists for certain tasks?\n",
        "\n",
        "    - Fast lookups (O(1) vs O(n) for lists)\n",
        "\n",
        "    - Key-value mapping\n",
        "\n",
        "    - Better for representing structured data\n",
        "\n",
        "12. Describe a scenario where using a tuple would be preferable over a list.\n",
        "\n",
        "    - When storing coordinates (x, y), RGB values, or any fixed, unchangeable data.\n",
        "\n",
        "    - coordinates = (10, 20)\n",
        "\n",
        "\n",
        "    - Tuples ensure the data stays unchanged.\n",
        "\n",
        "13. How do sets handle duplicate values in Python?\n",
        "\n",
        "    - Sets automatically remove duplicates.\n",
        "\n",
        "    - s = {1, 2, 2, 3}\n",
        "    - print(s)  # {1, 2, 3}\n",
        "\n",
        "14. How does the in keyword work differently for lists and dictionaries?\n",
        "\n",
        "    - For lists: Checks for presence of a value\n",
        "\n",
        "    - For dictionaries: Checks for presence of a key\n",
        "\n",
        "    - 1 in [1, 2, 3]  # True\n",
        "      'name' in {'name': 'Alice'}  # True\n",
        "\n",
        "15. Can you modify the elements of a tuple? Explain why or why not.\n",
        "\n",
        "    - No. Tuples are immutable. Once created, you can't change their elements.\n",
        "\n",
        "    - t = (1, 2, 3)\n",
        "    - # t[0] = 10  # Error\n",
        "\n",
        "16. What is a nested dictionary, and give an example of its use case.\n",
        "\n",
        "    - A nested dictionary is a dictionary where values are themselves dictionaries.\n",
        "\n",
        "    - users = {\n",
        "    'alice': {'age': 30, 'email': 'a@example.com'},\n",
        "    'bob': {'age': 25, 'email': 'b@example.com'}\n",
        "    }\n",
        "\n",
        "\n",
        "    - Use case: Storing structured data like JSON.\n",
        "\n",
        "17. Describe the time complexity of accessing elements in a dictionary.\n",
        "\n",
        "    - Average case: O(1) (constant time)\n",
        "\n",
        "    - Worst case (very rare): O(n)\n",
        "\n",
        "    - Thanks to the hash table implementation.\n",
        "\n",
        "18. In what situations are lists preferred over dictionaries?\n",
        "\n",
        "    - When order matters\n",
        "\n",
        "    - For simple collections of items\n",
        "\n",
        "    - When keys are not needed\n",
        "\n",
        "    - For iterating in sequence\n",
        "\n",
        "19. Why are dictionaries considered unordered, and how does that affect data retrieval?\n",
        "\n",
        "    - Traditionally, dictionaries were unordered (before Python 3.7). Now they preserve insertion order, but are still accessed by key, not by position.\n",
        "\n",
        "    - It affects retrieval because you can't assume position or order matters.\n",
        "\n",
        "20. Explain the difference between a list and a dictionary in terms of data retrieval.\n",
        "    - Feature\tList\tDictionary\n",
        "    - Access by\tIndex (e.g., list[0])\tKey (e.g., dict['a'])\n",
        "    - Lookup speed\tO(n)\tO(1) (average)\n",
        "    - Key/value pair\tNo\tYes    "
      ],
      "metadata": {
        "id": "B1xLpnek9fta"
      }
    },
    {
      "cell_type": "markdown",
      "source": [
        "Practical questions"
      ],
      "metadata": {
        "id": "je_fToYsfmjO"
      }
    },
    {
      "cell_type": "code",
      "source": [
        "# Write a code to create a string with your name and print it\n",
        "name = \"Nikita\"\n",
        "print(name)"
      ],
      "metadata": {
        "colab": {
          "base_uri": "https://localhost:8080/"
        },
        "id": "SXBBA2AUff-I",
        "outputId": "b1cfcb63-083d-4f3f-d613-dddc08d62a63"
      },
      "execution_count": 1,
      "outputs": [
        {
          "output_type": "stream",
          "name": "stdout",
          "text": [
            "Nikita\n"
          ]
        }
      ]
    },
    {
      "cell_type": "code",
      "source": [
        "# Write a code to find the length of the string \"Hello World\"\n",
        "s = \"Hello World\"\n",
        "print(len(s))"
      ],
      "metadata": {
        "colab": {
          "base_uri": "https://localhost:8080/"
        },
        "id": "vQNz_jJ3gAc_",
        "outputId": "c290e507-5e8c-4e04-cc7f-19702952d7ff"
      },
      "execution_count": 2,
      "outputs": [
        {
          "output_type": "stream",
          "name": "stdout",
          "text": [
            "11\n"
          ]
        }
      ]
    },
    {
      "cell_type": "code",
      "source": [
        "# Write a code to slice the first 3 characters from the string \"Python Programming\"\n",
        "text = \"Python Programming\"\n",
        "print(text[:3])"
      ],
      "metadata": {
        "colab": {
          "base_uri": "https://localhost:8080/"
        },
        "id": "BIxX9t3egNak",
        "outputId": "0ce91bf9-12b7-444e-fa59-bc8ea8e7f21d"
      },
      "execution_count": 3,
      "outputs": [
        {
          "output_type": "stream",
          "name": "stdout",
          "text": [
            "Pyt\n"
          ]
        }
      ]
    },
    {
      "cell_type": "code",
      "source": [
        "# Write a code to convert the string \"hello\" to uppercase\n",
        "word = \"hello\"\n",
        "print(word.upper())"
      ],
      "metadata": {
        "colab": {
          "base_uri": "https://localhost:8080/"
        },
        "id": "We0PxQ2mgTwU",
        "outputId": "15dd195c-d617-41c7-8936-9e67573393f0"
      },
      "execution_count": 4,
      "outputs": [
        {
          "output_type": "stream",
          "name": "stdout",
          "text": [
            "HELLO\n"
          ]
        }
      ]
    },
    {
      "cell_type": "code",
      "source": [
        "# Write a code to replace the word \"apple\" with \"orange\" in the string \"I like apple\"\n",
        "sentence = \"I like apple\"\n",
        "print(sentence.replace(\"apple\", \"orange\"))"
      ],
      "metadata": {
        "colab": {
          "base_uri": "https://localhost:8080/"
        },
        "id": "Zfob2J3Sgb08",
        "outputId": "7e7acfb9-5ca6-425a-954d-8b42014d9404"
      },
      "execution_count": 7,
      "outputs": [
        {
          "output_type": "stream",
          "name": "stdout",
          "text": [
            "I like orange\n"
          ]
        }
      ]
    },
    {
      "cell_type": "code",
      "source": [
        "# Write a code to create a list with numbers 1 to 5 and print it\n",
        "nums = [1, 2, 3, 4, 5]\n",
        "print(nums)"
      ],
      "metadata": {
        "colab": {
          "base_uri": "https://localhost:8080/"
        },
        "id": "AN77oaadgjmL",
        "outputId": "5cdb664b-dd3a-44be-f68b-ebd5b24624b3"
      },
      "execution_count": 8,
      "outputs": [
        {
          "output_type": "stream",
          "name": "stdout",
          "text": [
            "[1, 2, 3, 4, 5]\n"
          ]
        }
      ]
    },
    {
      "cell_type": "code",
      "source": [
        "# Write a code to append the number 10 to the list [1, 2, 3, 4]\n",
        "my_list = [1, 2, 3, 4]\n",
        "my_list.append(10)\n",
        "print(my_list)"
      ],
      "metadata": {
        "colab": {
          "base_uri": "https://localhost:8080/"
        },
        "id": "rA4pk4yUgpzJ",
        "outputId": "dbf20bd5-6bf1-4c63-89ff-1cd839f7b8d6"
      },
      "execution_count": 9,
      "outputs": [
        {
          "output_type": "stream",
          "name": "stdout",
          "text": [
            "[1, 2, 3, 4, 10]\n"
          ]
        }
      ]
    },
    {
      "cell_type": "code",
      "source": [
        "# Write a code to remove the number 3 from the list [1, 2, 3, 4, 5]\n",
        "my_list2 = [1, 2, 3, 4, 5]\n",
        "my_list2.remove(3)\n",
        "print(my_list2)"
      ],
      "metadata": {
        "colab": {
          "base_uri": "https://localhost:8080/"
        },
        "id": "TKGHtjh6gxMm",
        "outputId": "cd8ab6b6-fac8-4729-c5be-75f6554ae248"
      },
      "execution_count": 10,
      "outputs": [
        {
          "output_type": "stream",
          "name": "stdout",
          "text": [
            "[1, 2, 4, 5]\n"
          ]
        }
      ]
    },
    {
      "cell_type": "code",
      "source": [
        "# Write a code to access the second element in the list ['a', 'b', 'c', 'd']\n",
        "letters = ['a', 'b', 'c', 'd']\n",
        "print(letters[1])"
      ],
      "metadata": {
        "colab": {
          "base_uri": "https://localhost:8080/"
        },
        "id": "iSD_ZEbzg4DF",
        "outputId": "4c1876ed-70eb-4f4b-c081-20ab6965aa98"
      },
      "execution_count": 11,
      "outputs": [
        {
          "output_type": "stream",
          "name": "stdout",
          "text": [
            "b\n"
          ]
        }
      ]
    },
    {
      "cell_type": "code",
      "source": [
        "# Write a code to reverse the list [10, 20, 30, 40, 50]\n",
        "numbers = [10, 20, 30, 40, 50]\n",
        "numbers.reverse()\n",
        "print(numbers)"
      ],
      "metadata": {
        "colab": {
          "base_uri": "https://localhost:8080/"
        },
        "id": "0gCLFkvQg-ND",
        "outputId": "3f2e7bfb-17b9-4d1c-8b06-5c48a0ca4603"
      },
      "execution_count": 12,
      "outputs": [
        {
          "output_type": "stream",
          "name": "stdout",
          "text": [
            "[50, 40, 30, 20, 10]\n"
          ]
        }
      ]
    },
    {
      "cell_type": "code",
      "source": [
        "# 11. Create a tuple and print it\n",
        "my_tuple = (100, 200, 300)\n",
        "print(my_tuple)\n",
        "\n",
        "# 12. Access second-to-last element\n",
        "colors = ('red', 'green', 'blue', 'yellow')\n",
        "print(colors[-2])\n",
        "\n",
        "# 13. Find minimum number\n",
        "nums = (10, 20, 5, 15)\n",
        "print(min(nums))\n",
        "\n",
        "# 14. Find index of \"cat\"\n",
        "animals = ('dog', 'cat', 'rabbit')\n",
        "print(animals.index(\"cat\"))\n",
        "\n",
        "# 15. Check if \"kiwi\" is in tuple\n",
        "fruits = ('apple', 'banana', 'orange')\n",
        "print(\"kiwi\" in fruits)\n",
        "\n",
        "# 16. Create a set and print\n",
        "my_set = {'a', 'b', 'c'}\n",
        "print(my_set)\n",
        "\n",
        "# 17. Clear all elements from set\n",
        "s = {1, 2, 3, 4, 5}\n",
        "s.clear()\n",
        "print(s)\n",
        "\n",
        "# 18. Remove element 4 from set\n",
        "s2 = {1, 2, 3, 4}\n",
        "s2.remove(4)\n",
        "print(s2)\n",
        "\n",
        "# 19. Union of two sets\n",
        "set1 = {1, 2, 3}\n",
        "set2 = {3, 4, 5}\n",
        "print(set1.union(set2))\n",
        "\n",
        "# 20. Intersection of two sets\n",
        "set3 = {1, 2, 3}\n",
        "set4 = {2, 3, 4}\n",
        "print(set3.intersection(set4))\n",
        "\n",
        "# 21. Create dictionary\n",
        "person = {\"name\": \"John\", \"age\": 25, \"city\": \"New York\"}\n",
        "print(person)\n",
        "\n",
        "# 22. Add new key-value pair\n",
        "person2 = {'name': 'John', 'age': 25}\n",
        "person2[\"country\"] = \"USA\"\n",
        "print(person2)\n",
        "\n",
        "# 23. Access value by key\n",
        "person3 = {'name': 'Alice', 'age': 30}\n",
        "print(person3[\"name\"])\n",
        "\n",
        "# 24. Remove key \"age\"\n",
        "person4 = {'name': 'Bob', 'age': 22, 'city': 'New York'}\n",
        "person4.pop(\"age\")\n",
        "print(person4)\n",
        "\n",
        "# 25. Check if \"city\" exists\n",
        "person5 = {'name': 'Alice', 'city': 'Paris'}\n",
        "print(\"city\" in person5)\n",
        "\n",
        "# 26. Create list, tuple, and dictionary\n",
        "my_list = [1, 2, 3]\n",
        "my_tuple2 = (4, 5, 6)\n",
        "my_dict = {\"a\": 1, \"b\": 2}\n",
        "print(my_list, my_tuple2, my_dict)\n",
        "\n",
        "# 27. List of 5 random numbers sorted\n",
        "import random\n",
        "rand_list = random.sample(range(1, 101), 5)\n",
        "rand_list.sort()\n",
        "print(rand_list)\n",
        "\n",
        "# 28. List with strings and access third index\n",
        "string_list = [\"apple\", \"banana\", \"cherry\", \"date\", \"fig\"]\n",
        "print(string_list[3])\n",
        "\n",
        "# 29. Combine two dictionaries\n",
        "dict1 = {\"a\": 1, \"b\": 2}\n",
        "dict2 = {\"c\": 3, \"d\": 4}\n",
        "combined = {**dict1, **dict2}\n",
        "print(combined)\n",
        "\n",
        "# 30. Convert list of strings to set\n",
        "str_list = [\"apple\", \"banana\", \"apple\", \"cherry\"]\n",
        "str_set = set(str_list)\n",
        "print(str_set)"
      ],
      "metadata": {
        "colab": {
          "base_uri": "https://localhost:8080/"
        },
        "id": "bUjTjpEQiNjb",
        "outputId": "dc03b433-77c3-4ba6-b672-a1a8ab3a61c4"
      },
      "execution_count": 13,
      "outputs": [
        {
          "output_type": "stream",
          "name": "stdout",
          "text": [
            "(100, 200, 300)\n",
            "blue\n",
            "5\n",
            "1\n",
            "False\n",
            "{'b', 'c', 'a'}\n",
            "set()\n",
            "{1, 2, 3}\n",
            "{1, 2, 3, 4, 5}\n",
            "{2, 3}\n",
            "{'name': 'John', 'age': 25, 'city': 'New York'}\n",
            "{'name': 'John', 'age': 25, 'country': 'USA'}\n",
            "Alice\n",
            "{'name': 'Bob', 'city': 'New York'}\n",
            "True\n",
            "[1, 2, 3] (4, 5, 6) {'a': 1, 'b': 2}\n",
            "[57, 73, 77, 95, 99]\n",
            "date\n",
            "{'a': 1, 'b': 2, 'c': 3, 'd': 4}\n",
            "{'banana', 'apple', 'cherry'}\n"
          ]
        }
      ]
    }
  ]
}